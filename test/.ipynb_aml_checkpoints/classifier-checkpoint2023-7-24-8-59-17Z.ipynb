{
  "cells": [
    {
      "cell_type": "markdown",
      "source": [
        "###step:load the workspace configuration"
      ],
      "metadata": {
        "nteract": {
          "transient": {
            "deleting": false
          }
        }
      }
    },
    {
      "cell_type": "code",
      "source": [
        "from azureml.core import Workspace,Dataset,Experiment\n",
        "\n",
        "subscription_id = 'dfb14526-a13a-4985-8434-3a0c79be2a0f'\n",
        "resource_group = 'mlops-aug-batch'\n",
        "workspace_name = 'intellipat-mlops'\n",
        "\n",
        "workspace = Workspace(subscription_id, resource_group, workspace_name)"
      ],
      "outputs": [],
      "execution_count": 3,
      "metadata": {
        "jupyter": {
          "source_hidden": false,
          "outputs_hidden": false
        },
        "nteract": {
          "transient": {
            "deleting": false
          }
        },
        "gather": {
          "logged": 1692816321577
        }
      }
    },
    {
      "cell_type": "code",
      "source": [
        "experment = Experiment(workspace= workspace,name=\"iris\")\n",
        "dataset = Dataset.get_by_name(workspace=workspace,name=\"Iris\")\n",
        "\n",
        "df=dataset.to_pandas_dataframe()\n",
        "df.head(4)"
      ],
      "outputs": [
        {
          "output_type": "execute_result",
          "execution_count": 4,
          "data": {
            "text/plain": "   Id  SepalLengthCm  SepalWidthCm  PetalLengthCm  PetalWidthCm      Species\n0   1            5.1           3.5            1.4           0.2  Iris-setosa\n1   2            4.9           3.0            1.4           0.2  Iris-setosa\n2   3            4.7           3.2            1.3           0.2  Iris-setosa\n3   4            4.6           3.1            1.5           0.2  Iris-setosa",
            "text/html": "<div>\n<style scoped>\n    .dataframe tbody tr th:only-of-type {\n        vertical-align: middle;\n    }\n\n    .dataframe tbody tr th {\n        vertical-align: top;\n    }\n\n    .dataframe thead th {\n        text-align: right;\n    }\n</style>\n<table border=\"1\" class=\"dataframe\">\n  <thead>\n    <tr style=\"text-align: right;\">\n      <th></th>\n      <th>Id</th>\n      <th>SepalLengthCm</th>\n      <th>SepalWidthCm</th>\n      <th>PetalLengthCm</th>\n      <th>PetalWidthCm</th>\n      <th>Species</th>\n    </tr>\n  </thead>\n  <tbody>\n    <tr>\n      <th>0</th>\n      <td>1</td>\n      <td>5.1</td>\n      <td>3.5</td>\n      <td>1.4</td>\n      <td>0.2</td>\n      <td>Iris-setosa</td>\n    </tr>\n    <tr>\n      <th>1</th>\n      <td>2</td>\n      <td>4.9</td>\n      <td>3.0</td>\n      <td>1.4</td>\n      <td>0.2</td>\n      <td>Iris-setosa</td>\n    </tr>\n    <tr>\n      <th>2</th>\n      <td>3</td>\n      <td>4.7</td>\n      <td>3.2</td>\n      <td>1.3</td>\n      <td>0.2</td>\n      <td>Iris-setosa</td>\n    </tr>\n    <tr>\n      <th>3</th>\n      <td>4</td>\n      <td>4.6</td>\n      <td>3.1</td>\n      <td>1.5</td>\n      <td>0.2</td>\n      <td>Iris-setosa</td>\n    </tr>\n  </tbody>\n</table>\n</div>"
          },
          "metadata": {}
        }
      ],
      "execution_count": 4,
      "metadata": {
        "jupyter": {
          "source_hidden": false,
          "outputs_hidden": false
        },
        "nteract": {
          "transient": {
            "deleting": false
          }
        },
        "gather": {
          "logged": 1692816332497
        }
      }
    },
    {
      "cell_type": "code",
      "source": [
        "X =df[['SepalLengthCm','SepalWidthCm','PetalLengthCm','PetalWidthCm']]\n",
        "Y =df['Species']"
      ],
      "outputs": [],
      "execution_count": 5,
      "metadata": {
        "jupyter": {
          "source_hidden": false,
          "outputs_hidden": false
        },
        "nteract": {
          "transient": {
            "deleting": false
          }
        },
        "gather": {
          "logged": 1692816339170
        }
      }
    },
    {
      "cell_type": "code",
      "source": [
        "from sklearn.model_selection import train_test_split\n",
        "X_train,X_test,y_train,y_test = train_test_split(X,Y,test_size= 0.10,shuffle=True)\n"
      ],
      "outputs": [],
      "execution_count": 6,
      "metadata": {
        "jupyter": {
          "source_hidden": false,
          "outputs_hidden": false
        },
        "nteract": {
          "transient": {
            "deleting": false
          }
        },
        "gather": {
          "logged": 1692816341400
        }
      }
    },
    {
      "cell_type": "markdown",
      "source": [
        "****###create a DT classifier"
      ],
      "metadata": {
        "nteract": {
          "transient": {
            "deleting": false
          }
        }
      }
    },
    {
      "cell_type": "code",
      "source": [
        "from sklearn.tree import DecisionTreeClassifier\n",
        "from sklearn.metrics import accuracy_score\n",
        "\n",
        "\n",
        "#step1:initialise the model class\n",
        "clf =DecisionTreeClassifier()\n",
        "#step2:train the model with training data\n",
        "clf.fit(X_train,y_train)\n",
        "\n",
        "#step3: evaluated the model with testing data \n",
        "y_pred = clf.predict(X_test)\n",
        "accuracy = accuracy_score(y_test,y_pred)\n"
      ],
      "outputs": [],
      "execution_count": 10,
      "metadata": {
        "jupyter": {
          "source_hidden": false,
          "outputs_hidden": false
        },
        "nteract": {
          "transient": {
            "deleting": false
          }
        },
        "gather": {
          "logged": 1692671383788
        }
      }
    },
    {
      "cell_type": "code",
      "source": [
        "from sklearn.model_selection import train_test_split\n",
        "from sklearn.tree import DecisionTreeClassifier\n",
        "from sklearn.metrics import accuracy_score\n",
        "\n",
        "X =df[['SepalLengthCm','SepalWidthCm','PetalLengthCm','PetalWidthCm']]\n",
        "Y =df['Species']\n",
        "\n",
        "run=experment.start_logging()\n",
        "\n",
        "\n",
        "X_train,X_test,y_train,y_test = train_test_split(X,Y,test_size= 0.10,shuffle=True)\n",
        "\n",
        "\n",
        "#step1:initialise the model class\n",
        "clf =DecisionTreeClassifier(criterion=\"gini\",max_depth=4)\n",
        "#step2:train the model with training data\n",
        "clf.fit(X_train,y_train)\n",
        "\n",
        "#step3: evaluated the model with testing data \n",
        "y_pred = clf.predict(X_test)\n",
        "accuracy = accuracy_score(y_test,y_pred)\n",
        "\n",
        "run.log(\"accuracy\",accuracy*100)"
      ],
      "outputs": [],
      "execution_count": 11,
      "metadata": {
        "jupyter": {
          "source_hidden": false,
          "outputs_hidden": false
        },
        "nteract": {
          "transient": {
            "deleting": false
          }
        },
        "gather": {
          "logged": 1692671933177
        }
      }
    },
    {
      "cell_type": "code",
      "source": [
        "from sklearn.model_selection import train_test_split\n",
        "from sklearn.tree import DecisionTreeClassifier\n",
        "from sklearn.metrics import accuracy_score\n",
        "\n",
        "X =df[['SepalLengthCm','SepalWidthCm','PetalLengthCm','PetalWidthCm']]\n",
        "Y =df['Species']\n",
        "\n",
        "run=experment.start_logging()\n",
        "\n",
        "\n",
        "X_train,X_test,y_train,y_test = train_test_split(X,Y,test_size= 0.10,shuffle=True)\n",
        "\n",
        "\n",
        "#step1:initialise the model class\n",
        "clf =DecisionTreeClassifier()\n",
        "#step2:train the model with training data\n",
        "clf.fit(X_train,y_train)\n",
        "\n",
        "#step3: evaluated the model with testing data \n",
        "y_pred = clf.predict(X_test)\n",
        "accuracy = accuracy_score(y_test,y_pred)\n",
        "\n",
        "run.log(\"accuracy\",accuracy*100)"
      ],
      "outputs": [],
      "execution_count": 7,
      "metadata": {
        "jupyter": {
          "source_hidden": false,
          "outputs_hidden": false
        },
        "nteract": {
          "transient": {
            "deleting": false
          }
        },
        "gather": {
          "logged": 1692816358050
        }
      }
    },
    {
      "cell_type": "code",
      "source": [
        "from sklearn.model_selection import train_test_split\n",
        "from sklearn.tree import DecisionTreeClassifier\n",
        "from sklearn.metrics import accuracy_score\n",
        "import joblib\n",
        "\n",
        "X = df[['SepalLengthCm','SepalWidthCm','PetalLengthCm','PetalWidthCm']]\n",
        "Y = df['Species']\n",
        "\n",
        "run = experment.start_logging()\n",
        "test_size=0.40\n",
        "\n",
        "run.log(\"train_test_split\",test_size)\n",
        "\n",
        "X_train, X_test, y_train, y_test = train_test_split(X,Y, test_size= test_size, shuffle=True)\n",
        "\n",
        "\n",
        "#step1: initialise the model class\n",
        "clf = DecisionTreeClassifier(criterion=\"gini\", max_depth=4)\n",
        "#step:2 train the model with training data\n",
        "clf.fit(X_train, y_train)\n",
        "\n",
        "#step-3 evaluate the model with testing data\n",
        "y_pred = clf.predict(X_test)\n",
        "accurcay = accuracy_score(y_test,y_pred)\n",
        "\n",
        "run.log(\"accuracy\",accurcay*100 )\n",
        "\n",
        "model_name =  \"iris_decision_tree.pkl\"\n",
        "filepath = \"outputs/\"+model_name\n",
        "\n",
        "joblib.dump(value= clf,filename=filepath)\n",
        "run.upload_file(name=model_name, path_or_stream=filepath)\n",
        "run.complete()"
      ],
      "outputs": [],
      "execution_count": 8,
      "metadata": {
        "jupyter": {
          "source_hidden": false,
          "outputs_hidden": false
        },
        "nteract": {
          "transient": {
            "deleting": false
          }
        },
        "gather": {
          "logged": 1692816439406
        }
      }
    },
    {
      "cell_type": "markdown",
      "source": [
        "### step 4: Register the model\n"
      ],
      "metadata": {
        "nteract": {
          "transient": {
            "deleting": false
          }
        }
      }
    },
    {
      "cell_type": "code",
      "source": [
        "from azureml.core import Model\n",
        "from azureml.core.resource_configuration import ResourceConfiguration\n",
        "import sklearn"
      ],
      "outputs": [],
      "execution_count": 14,
      "metadata": {
        "jupyter": {
          "source_hidden": false,
          "outputs_hidden": false
        },
        "nteract": {
          "transient": {
            "deleting": false
          }
        },
        "gather": {
          "logged": 1692673872216
        }
      }
    },
    {
      "cell_type": "code",
      "source": [
        "model = Model.register(\n",
        "    workspace=workspace,\n",
        "    model_name = \"iris\",\n",
        "    model_path = filepath,\n",
        "    model_framework= Model.Framework.SCIKITLEARN,\n",
        "    model_framework_version= sklearn.__version__,\n",
        "    description= \"This is a sample DT classifier\",\n",
        "    resource_configuration= ResourceConfiguration(cpu=1, memory_in_gb= 0.5)\n",
        ")\n",
        "\n",
        "print(\"Name:\", model.name)\n",
        "print(\"version:\", model.version)"
      ],
      "outputs": [
        {
          "output_type": "stream",
          "name": "stdout",
          "text": "Registering model iris\nName: iris\nversion: 1\n"
        }
      ],
      "execution_count": 15,
      "metadata": {
        "jupyter": {
          "source_hidden": false,
          "outputs_hidden": false
        },
        "nteract": {
          "transient": {
            "deleting": false
          }
        },
        "gather": {
          "logged": 1692673888780
        }
      }
    },
    {
      "cell_type": "code",
      "source": [
        "!pip show scikit-learn"
      ],
      "outputs": [
        {
          "output_type": "stream",
          "name": "stdout",
          "text": "Name: scikit-learn\r\nVersion: 0.22.1\r\nSummary: A set of python modules for machine learning and data mining\r\nHome-page: http://scikit-learn.org\r\nAuthor: None\r\nAuthor-email: None\r\nLicense: new BSD\r\nLocation: /anaconda/envs/azureml_py38/lib/python3.8/site-packages\r\nRequires: scipy, numpy, joblib\r\nRequired-by: sklearn-pandas, skl2onnx, shap, seqeval, responsibleai, raiwidgets, raiutils, pmdarima, ml-wrappers, lightgbm, interpret-community, fairlearn, erroranalysis, econml, dice-ml, azureml-training-tabular, azureml-train-automl-runtime, azureml-datadrift, azureml-automl-runtime, autokeras\r\n"
        }
      ],
      "execution_count": 10,
      "metadata": {
        "jupyter": {
          "source_hidden": false,
          "outputs_hidden": false
        },
        "nteract": {
          "transient": {
            "deleting": false
          }
        }
      }
    },
    {
      "cell_type": "code",
      "source": [],
      "outputs": [],
      "execution_count": null,
      "metadata": {
        "jupyter": {
          "source_hidden": false,
          "outputs_hidden": false
        },
        "nteract": {
          "transient": {
            "deleting": false
          }
        }
      }
    }
  ],
  "metadata": {
    "kernelspec": {
      "name": "python310-sdkv2",
      "language": "python",
      "display_name": "Python 3.10 - SDK v2"
    },
    "language_info": {
      "name": "python",
      "version": "3.10.11",
      "mimetype": "text/x-python",
      "codemirror_mode": {
        "name": "ipython",
        "version": 3
      },
      "pygments_lexer": "ipython3",
      "nbconvert_exporter": "python",
      "file_extension": ".py"
    },
    "microsoft": {
      "ms_spell_check": {
        "ms_spell_check_language": "en"
      },
      "host": {
        "AzureML": {
          "notebookHasBeenCompleted": true
        }
      }
    },
    "kernel_info": {
      "name": "python310-sdkv2"
    },
    "nteract": {
      "version": "nteract-front-end@1.0.0"
    }
  },
  "nbformat": 4,
  "nbformat_minor": 2
}